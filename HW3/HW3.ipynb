{
 "cells": [
  {
   "cell_type": "code",
   "execution_count": 27,
   "metadata": {
    "colab": {
     "base_uri": "https://localhost:8080/",
     "height": 34
    },
    "colab_type": "code",
    "executionInfo": {
     "elapsed": 2046,
     "status": "ok",
     "timestamp": 1543426720026,
     "user": {
      "displayName": "Jie He",
      "photoUrl": "",
      "userId": "02992744115617994185"
     },
     "user_tz": 360
    },
    "id": "C5tPlBp3k1Ay",
    "outputId": "d46f9b17-7295-418f-8695-1dc3d1bb06e6"
   },
   "outputs": [],
   "source": [
    "# Import libraries\n",
    "%matplotlib inline\n",
    "import nltk\n",
    "import string\n",
    "import numpy as np\n",
    "import tensorflow as tf\n",
    "import pandas as pd\n",
    "import matplotlib.pyplot as plt\n",
    "import skimage\n",
    "import itertools\n",
    "\n",
    "from string import printable\n",
    "from keras import backend as K\n",
    "from skimage.transform import resize\n",
    "from keras.datasets import fashion_mnist\n",
    "from keras import regularizers\n",
    "from keras import callbacks\n",
    "from keras.models import Sequential, Model\n",
    "from keras.layers import Embedding, LSTM, Dense, Dropout, Activation, Flatten, Input, Conv2D, MaxPooling2D, UpSampling2D\n",
    "from keras.layers import BatchNormalization, Lambda, Convolution1D, Convolution2D, ELU, concatenate\n",
    "from keras.layers import Input, Dense,Conv1D, Conv2D, MaxPooling2D, UpSampling2D, Flatten, Dropout, Reshape, Embedding, LSTM, GlobalMaxPooling1D\n",
    "from keras.utils import np_utils\n",
    "from keras.applications.vgg16 import VGG16, preprocess_input, decode_predictions\n",
    "from keras.preprocessing import image\n",
    "from keras.preprocessing.image import img_to_array, array_to_img\n",
    "from keras.preprocessing.text import Tokenizer\n",
    "from keras.preprocessing.sequence import pad_sequences\n",
    "from sklearn.model_selection import train_test_split\n",
    "from sklearn.feature_extraction.text import CountVectorizer\n",
    "from sklearn.metrics import roc_curve, auc\n",
    "from keras.optimizers import SGD, Adam, RMSprop\n",
    "from keras.layers.advanced_activations import LeakyReLU\n",
    "from keras.callbacks import EarlyStopping  \n",
    "\n",
    "import warnings\n",
    "warnings.filterwarnings(\"ignore\")"
   ]
  },
  {
   "cell_type": "markdown",
   "metadata": {},
   "source": [
    "# 1. Autoencoder"
   ]
  },
  {
   "cell_type": "code",
   "execution_count": 3,
   "metadata": {
    "colab": {
     "base_uri": "https://localhost:8080/",
     "height": 689
    },
    "colab_type": "code",
    "executionInfo": {
     "elapsed": 8344,
     "status": "ok",
     "timestamp": 1543426747884,
     "user": {
      "displayName": "Jie He",
      "photoUrl": "",
      "userId": "02992744115617994185"
     },
     "user_tz": 360
    },
    "id": "gYSPmq24syex",
    "outputId": "8d960641-d6b1-46b1-a699-857f002264a8"
   },
   "outputs": [
    {
     "name": "stdout",
     "output_type": "stream",
     "text": [
      "Downloading data from https://storage.googleapis.com/tensorflow/tf-keras-datasets/train-labels-idx1-ubyte.gz\n",
      "32768/29515 [=================================] - 0s 0us/step\n",
      "Downloading data from https://storage.googleapis.com/tensorflow/tf-keras-datasets/train-images-idx3-ubyte.gz\n",
      "26427392/26421880 [==============================] - 15s 1us/step\n",
      "Downloading data from https://storage.googleapis.com/tensorflow/tf-keras-datasets/t10k-labels-idx1-ubyte.gz\n",
      "8192/5148 [===============================================] - 0s 0us/step\n",
      "Downloading data from https://storage.googleapis.com/tensorflow/tf-keras-datasets/t10k-images-idx3-ubyte.gz\n",
      "4423680/4422102 [==============================] - 2s 0us/step\n",
      "(60000, 28, 28, 1)\n",
      "(10000, 28, 28, 1)\n"
     ]
    }
   ],
   "source": [
    "# Load the data\n",
    "(x_train, y_train), (x_test, y_test) = tf.keras.datasets.fashion_mnist.load_data() \n",
    "\n",
    "# Normalize the data\n",
    "x_train = x_train.astype('float32') / 255\n",
    "x_test = x_test.astype('float32') / 255\n",
    "\n",
    "x_train = np.reshape(x_train, (len(x_train), 28, 28, 1))\n",
    "x_test = np.reshape(x_test, (len(x_test), 28, 28, 1))\n",
    "\n",
    "y_train = np_utils.to_categorical(y_train, 10, dtype = 'float32') \n",
    "y_test = np_utils.to_categorical(y_test, 10, dtype = 'float32') \n",
    "print(x_train.shape)\n",
    "print(x_test.shape)"
   ]
  },
  {
   "cell_type": "code",
   "execution_count": 5,
   "metadata": {
    "colab": {
     "base_uri": "https://localhost:8080/",
     "height": 633
    },
    "colab_type": "code",
    "executionInfo": {
     "elapsed": 1209,
     "status": "ok",
     "timestamp": 1543426773410,
     "user": {
      "displayName": "Jie He",
      "photoUrl": "",
      "userId": "02992744115617994185"
     },
     "user_tz": 360
    },
    "id": "_2Q4VUpgszo8",
    "outputId": "f3439d5d-8c3e-4e17-a798-ac7277401840"
   },
   "outputs": [
    {
     "name": "stdout",
     "output_type": "stream",
     "text": [
      "Model: \"model_2\"\n",
      "_________________________________________________________________\n",
      "Layer (type)                 Output Shape              Param #   \n",
      "=================================================================\n",
      "input_2 (InputLayer)         (None, 28, 28, 1)         0         \n",
      "_________________________________________________________________\n",
      "conv2d_8 (Conv2D)            (None, 28, 28, 32)        320       \n",
      "_________________________________________________________________\n",
      "max_pooling2d_4 (MaxPooling2 (None, 14, 14, 32)        0         \n",
      "_________________________________________________________________\n",
      "conv2d_9 (Conv2D)            (None, 14, 14, 16)        4624      \n",
      "_________________________________________________________________\n",
      "max_pooling2d_5 (MaxPooling2 (None, 7, 7, 16)          0         \n",
      "_________________________________________________________________\n",
      "conv2d_10 (Conv2D)           (None, 7, 7, 16)          2320      \n",
      "_________________________________________________________________\n",
      "max_pooling2d_6 (MaxPooling2 (None, 4, 4, 16)          0         \n",
      "_________________________________________________________________\n",
      "conv2d_11 (Conv2D)           (None, 4, 4, 16)          2320      \n",
      "_________________________________________________________________\n",
      "up_sampling2d_4 (UpSampling2 (None, 8, 8, 16)          0         \n",
      "_________________________________________________________________\n",
      "conv2d_12 (Conv2D)           (None, 8, 8, 16)          2320      \n",
      "_________________________________________________________________\n",
      "up_sampling2d_5 (UpSampling2 (None, 16, 16, 16)        0         \n",
      "_________________________________________________________________\n",
      "conv2d_13 (Conv2D)           (None, 14, 14, 32)        4640      \n",
      "_________________________________________________________________\n",
      "up_sampling2d_6 (UpSampling2 (None, 28, 28, 32)        0         \n",
      "_________________________________________________________________\n",
      "conv2d_14 (Conv2D)           (None, 28, 28, 1)         289       \n",
      "=================================================================\n",
      "Total params: 16,833\n",
      "Trainable params: 16,833\n",
      "Non-trainable params: 0\n",
      "_________________________________________________________________\n"
     ]
    }
   ],
   "source": [
    "input_img = Input(shape = (28, 28, 1)) \n",
    "\n",
    "x = Conv2D(32, (3, 3), activation='relu', padding='same', strides=(1, 1))(input_img)\n",
    "x = MaxPooling2D((2, 2), padding='same')(x)\n",
    "x = Conv2D(16, (3, 3), activation='relu', padding='same', strides=(1, 1))(x)\n",
    "x = MaxPooling2D((2, 2), padding='same')(x)\n",
    "x = Conv2D(16, (3, 3), activation='relu', padding='same', strides=(1, 1))(x)\n",
    "encoded = MaxPooling2D((2, 2), padding='same')(x)\n",
    "\n",
    "x = Conv2D(16, (3, 3), activation='relu', padding='same', strides=(1, 1))(encoded)\n",
    "x = UpSampling2D((2, 2))(x)\n",
    "x = Conv2D(16, (3, 3), activation='relu', padding='same', strides=(1, 1))(x)\n",
    "x = UpSampling2D((2, 2))(x)\n",
    "x = Conv2D(32, (3, 3), activation='relu', strides=(1, 1))(x)\n",
    "x = UpSampling2D((2, 2))(x)\n",
    "decoded = Conv2D(1, (3, 3), activation='sigmoid', padding='same')(x)\n",
    "\n",
    "autoencoder = Model(input_img, decoded)\n",
    "autoencoder.compile(optimizer = 'adadelta', loss = 'binary_crossentropy')\n",
    "autoencoder.summary()"
   ]
  },
  {
   "cell_type": "code",
   "execution_count": 6,
   "metadata": {
    "colab": {
     "base_uri": "https://localhost:8080/",
     "height": 1090
    },
    "colab_type": "code",
    "executionInfo": {
     "elapsed": 230713,
     "status": "ok",
     "timestamp": 1543427024474,
     "user": {
      "displayName": "Jie He",
      "photoUrl": "",
      "userId": "02992744115617994185"
     },
     "user_tz": 360
    },
    "id": "l_KqDQ1Ls0Kj",
    "outputId": "09b9c3ca-fe49-4d29-c96e-bedd9e94c17b"
   },
   "outputs": [
    {
     "name": "stdout",
     "output_type": "stream",
     "text": [
      "WARNING:tensorflow:From C:\\Program Files\\Anaconda3\\lib\\site-packages\\keras\\backend\\tensorflow_backend.py:422: The name tf.global_variables is deprecated. Please use tf.compat.v1.global_variables instead.\n",
      "\n",
      "Train on 60000 samples, validate on 10000 samples\n",
      "Epoch 1/25\n",
      "60000/60000 [==============================] - 99s 2ms/step - loss: 0.3348 - val_loss: 0.3226\n",
      "Epoch 2/25\n",
      "60000/60000 [==============================] - 94s 2ms/step - loss: 0.3000 - val_loss: 0.2980\n",
      "Epoch 3/25\n",
      "60000/60000 [==============================] - 93s 2ms/step - loss: 0.2933 - val_loss: 0.2934\n",
      "Epoch 4/25\n",
      "60000/60000 [==============================] - 107s 2ms/step - loss: 0.2893 - val_loss: 0.2871\n",
      "Epoch 5/25\n",
      "60000/60000 [==============================] - 103s 2ms/step - loss: 0.2865 - val_loss: 0.2870\n",
      "Epoch 6/25\n",
      "60000/60000 [==============================] - 93s 2ms/step - loss: 0.2845 - val_loss: 0.2837\n",
      "Epoch 7/25\n",
      "60000/60000 [==============================] - 95s 2ms/step - loss: 0.2829 - val_loss: 0.2838\n",
      "Epoch 8/25\n",
      "60000/60000 [==============================] - 95s 2ms/step - loss: 0.2815 - val_loss: 0.2873\n",
      "Epoch 9/25\n",
      "60000/60000 [==============================] - 97s 2ms/step - loss: 0.2804 - val_loss: 0.2799\n",
      "Epoch 10/25\n",
      "60000/60000 [==============================] - 98s 2ms/step - loss: 0.2795 - val_loss: 0.2813\n",
      "Epoch 11/25\n",
      "60000/60000 [==============================] - 96s 2ms/step - loss: 0.2789 - val_loss: 0.2797\n",
      "Epoch 12/25\n",
      "60000/60000 [==============================] - 96s 2ms/step - loss: 0.2781 - val_loss: 0.2824\n",
      "Epoch 13/25\n",
      "60000/60000 [==============================] - 98s 2ms/step - loss: 0.2777 - val_loss: 0.2831\n",
      "Epoch 14/25\n",
      "60000/60000 [==============================] - 107s 2ms/step - loss: 0.2771 - val_loss: 0.2839\n",
      "Epoch 15/25\n",
      "60000/60000 [==============================] - 100s 2ms/step - loss: 0.2767 - val_loss: 0.2785\n",
      "Epoch 16/25\n",
      "60000/60000 [==============================] - 97s 2ms/step - loss: 0.2763 - val_loss: 0.2809\n",
      "Epoch 17/25\n",
      "60000/60000 [==============================] - 97s 2ms/step - loss: 0.2758 - val_loss: 0.2774\n",
      "Epoch 18/25\n",
      "60000/60000 [==============================] - 103s 2ms/step - loss: 0.2755 - val_loss: 0.2771\n",
      "Epoch 19/25\n",
      "60000/60000 [==============================] - 109s 2ms/step - loss: 0.2750 - val_loss: 0.2769\n",
      "Epoch 20/25\n",
      "60000/60000 [==============================] - 113s 2ms/step - loss: 0.2745 - val_loss: 0.2770\n",
      "Epoch 21/25\n",
      "60000/60000 [==============================] - 108s 2ms/step - loss: 0.2744 - val_loss: 0.2751\n",
      "Epoch 22/25\n",
      "60000/60000 [==============================] - 110s 2ms/step - loss: 0.2741 - val_loss: 0.2748\n",
      "Epoch 23/25\n",
      "60000/60000 [==============================] - 105s 2ms/step - loss: 0.2740 - val_loss: 0.2756\n",
      "Epoch 24/25\n",
      "60000/60000 [==============================] - 105s 2ms/step - loss: 0.2736 - val_loss: 0.2759\n",
      "Epoch 25/25\n",
      "60000/60000 [==============================] - 104s 2ms/step - loss: 0.2735 - val_loss: 0.2758\n"
     ]
    }
   ],
   "source": [
    "# Training the model\n",
    "autoencoder_fit = autoencoder.fit(x_train, x_train, epochs = 25, batch_size = 64, validation_data = (x_test, x_test))"
   ]
  },
  {
   "cell_type": "code",
   "execution_count": 8,
   "metadata": {
    "colab": {
     "base_uri": "https://localhost:8080/",
     "height": 570
    },
    "colab_type": "code",
    "executionInfo": {
     "elapsed": 1286,
     "status": "ok",
     "timestamp": 1543427085145,
     "user": {
      "displayName": "Jie He",
      "photoUrl": "",
      "userId": "02992744115617994185"
     },
     "user_tz": 360
    },
    "id": "QQTez_3rbjP8",
    "outputId": "b35a098a-5764-40c4-cce6-8cf032c21e49"
   },
   "outputs": [
    {
     "data": {
      "image/png": "[encoded data removed]",
      "text/plain": [
       "<Figure size 432x288 with 1 Axes>"
      ]
     },
     "metadata": {
      "needs_background": "light"
     },
     "output_type": "display_data"
    }
   ],
   "source": [
    "# Plot the loss\n",
    "def plot_loss(history):\n",
    "    plt.plot(history.history['loss'])\n",
    "    plt.plot(history.history['val_loss'])\n",
    "    plt.title('Model Loss')\n",
    "    plt.ylabel('loss')\n",
    "    plt.xlabel('epoch')\n",
    "    plt.legend(['train', 'test'], loc='upper right')\n",
    "    plt.show()\n",
    "\n",
    "plot_loss(autoencoder_fit)"
   ]
  },
  {
   "cell_type": "code",
   "execution_count": 12,
   "metadata": {
    "colab": {
     "base_uri": "https://localhost:8080/",
     "height": 561
    },
    "colab_type": "code",
    "executionInfo": {
     "elapsed": 3207,
     "status": "ok",
     "timestamp": 1543427121181,
     "user": {
      "displayName": "Jie He",
      "photoUrl": "",
      "userId": "02992744115617994185"
     },
     "user_tz": 360
    },
    "id": "RpW1XG_Fs0pD",
    "outputId": "f62bde79-a6aa-4698-b5c9-d0506f7dc352"
   },
   "outputs": [
    {
     "data": {
      "image/png": "[encoded data removed]",
      "text/plain": [
       "<Figure size 1440x288 with 20 Axes>"
      ]
     },
     "metadata": {
      "needs_background": "light"
     },
     "output_type": "display_data"
    }
   ],
   "source": [
    "# Display original and recounstruction images\n",
    "decoded_imgs = autoencoder.predict(x_test)\n",
    "\n",
    "n = 10\n",
    "plt.figure(figsize = (20, 4))\n",
    "for i in range(n):\n",
    "    # Original\n",
    "    ax = plt.subplot(2, n, i + 1) \n",
    "    plt.imshow(x_test[i].reshape(28, 28))\n",
    "    plt.gray()\n",
    "    ax.get_xaxis().set_visible(False)\n",
    "    ax.get_yaxis().set_visible(False)\n",
    "    # Reconstruction\n",
    "    ax = plt.subplot(2, n, i + n + 1) \n",
    "    plt.imshow(decoded_imgs[i].reshape(28, 28))\n",
    "    plt.gray()\n",
    "    ax.get_xaxis().set_visible(False)\n",
    "    ax.get_yaxis().set_visible(False)\n",
    "    \n",
    "plt.show()"
   ]
  },
  {
   "cell_type": "markdown",
   "metadata": {},
   "source": [
    "# 2. Image Classification\n",
    "\n",
    "\n",
    "## 2.1 Deep CNN"
   ]
  },
  {
   "cell_type": "code",
   "execution_count": 13,
   "metadata": {
    "colab": {},
    "colab_type": "code",
    "id": "Yyy0IYgQbfGW"
   },
   "outputs": [],
   "source": [
    "# Data pre-processing\n",
    "(x_train, y_train), (x_test, y_test) = tf.keras.datasets.fashion_mnist.load_data()\n",
    "\n",
    "x_train = x_train.reshape(x_train.shape[0], 28, 28, 1)\n",
    "x_test = x_test.reshape(x_test.shape[0], 28, 28, 1)\n",
    "\n",
    "x_train = x_train.astype(\"float32\") / 255\n",
    "x_test = x_test.astype(\"float32\") / 255\n",
    "\n",
    "y_train = np_utils.to_categorical(y_train, 10, dtype = \"float32\")\n",
    "y_test = np_utils.to_categorical(y_test, 10, dtype = \"float32\")"
   ]
  },
  {
   "cell_type": "code",
   "execution_count": 14,
   "metadata": {
    "colab": {
     "base_uri": "https://localhost:8080/",
     "height": 562
    },
    "colab_type": "code",
    "executionInfo": {
     "elapsed": 521,
     "status": "ok",
     "timestamp": 1543427164657,
     "user": {
      "displayName": "Jie He",
      "photoUrl": "",
      "userId": "02992744115617994185"
     },
     "user_tz": 360
    },
    "id": "l3n_cAAvs1LY",
    "outputId": "efc92ea9-f05c-4191-e4a0-9f6ce3e308a5"
   },
   "outputs": [
    {
     "name": "stdout",
     "output_type": "stream",
     "text": [
      "Model: \"sequential_1\"\n",
      "_________________________________________________________________\n",
      "Layer (type)                 Output Shape              Param #   \n",
      "=================================================================\n",
      "conv2d_15 (Conv2D)           (None, 28, 28, 32)        320       \n",
      "_________________________________________________________________\n",
      "max_pooling2d_7 (MaxPooling2 (None, 14, 14, 32)        0         \n",
      "_________________________________________________________________\n",
      "dropout_1 (Dropout)          (None, 14, 14, 32)        0         \n",
      "_________________________________________________________________\n",
      "conv2d_16 (Conv2D)           (None, 14, 14, 64)        18496     \n",
      "_________________________________________________________________\n",
      "max_pooling2d_8 (MaxPooling2 (None, 7, 7, 64)          0         \n",
      "_________________________________________________________________\n",
      "dropout_2 (Dropout)          (None, 7, 7, 64)          0         \n",
      "_________________________________________________________________\n",
      "conv2d_17 (Conv2D)           (None, 7, 7, 128)         73856     \n",
      "_________________________________________________________________\n",
      "dropout_3 (Dropout)          (None, 7, 7, 128)         0         \n",
      "_________________________________________________________________\n",
      "flatten_1 (Flatten)          (None, 6272)              0         \n",
      "_________________________________________________________________\n",
      "dense_1 (Dense)              (None, 128)               802944    \n",
      "_________________________________________________________________\n",
      "dropout_4 (Dropout)          (None, 128)               0         \n",
      "_________________________________________________________________\n",
      "dense_2 (Dense)              (None, 10)                1290      \n",
      "=================================================================\n",
      "Total params: 896,906\n",
      "Trainable params: 896,906\n",
      "Non-trainable params: 0\n",
      "_________________________________________________________________\n"
     ]
    }
   ],
   "source": [
    "# Build convolutional layers\n",
    "cnn = Sequential()\n",
    "cnn.add(Conv2D(32, kernel_size=(3, 3), activation='relu', padding='same', strides=(1, 1), input_shape=(28,28,1)))\n",
    "cnn.add(MaxPooling2D(pool_size=2))\n",
    "cnn.add(Dropout(0.3))\n",
    "\n",
    "cnn.add(Conv2D(64, kernel_size=(3, 3), activation='relu', padding='same', strides=(1, 1)))\n",
    "cnn.add(MaxPooling2D(pool_size=2))\n",
    "cnn.add(Dropout(0.3))\n",
    "\n",
    "cnn.add(Conv2D(128, kernel_size=(3, 3), activation='relu', padding='same', strides=(1, 1)))\n",
    "cnn.add(Dropout(0.3))\n",
    "\n",
    "cnn.add(Flatten())\n",
    "\n",
    "cnn.add(Dense(128, activation='relu'))\n",
    "cnn.add(Dropout(0.3))\n",
    "cnn.add(Dense(10, activation='softmax'))\n",
    "\n",
    "cnn.compile(loss='categorical_crossentropy', optimizer='adam', metrics=['accuracy'])\n",
    "\n",
    "# Take a look at the model summary\n",
    "cnn.summary()"
   ]
  },
  {
   "cell_type": "code",
   "execution_count": 15,
   "metadata": {
    "colab": {
     "base_uri": "https://localhost:8080/",
     "height": 1090
    },
    "colab_type": "code",
    "executionInfo": {
     "elapsed": 183293,
     "status": "ok",
     "timestamp": 1543427365281,
     "user": {
      "displayName": "Jie He",
      "photoUrl": "",
      "userId": "02992744115617994185"
     },
     "user_tz": 360
    },
    "id": "_FEuO-YBs1tR",
    "outputId": "acd46c94-9657-4d08-de69-7a1cc25c7352"
   },
   "outputs": [
    {
     "name": "stdout",
     "output_type": "stream",
     "text": [
      "Train on 60000 samples, validate on 10000 samples\n",
      "Epoch 1/20\n",
      "60000/60000 [==============================] - 65s 1ms/step - loss: 0.6582 - accuracy: 0.7578 - val_loss: 0.4172 - val_accuracy: 0.8473\n",
      "Epoch 2/20\n",
      "60000/60000 [==============================] - 66s 1ms/step - loss: 0.4090 - accuracy: 0.8510 - val_loss: 0.3290 - val_accuracy: 0.8786\n",
      "Epoch 3/20\n",
      "60000/60000 [==============================] - 65s 1ms/step - loss: 0.3536 - accuracy: 0.8726 - val_loss: 0.3028 - val_accuracy: 0.8872\n",
      "Epoch 4/20\n",
      "60000/60000 [==============================] - 66s 1ms/step - loss: 0.3211 - accuracy: 0.8819 - val_loss: 0.2907 - val_accuracy: 0.8935\n",
      "Epoch 5/20\n",
      "60000/60000 [==============================] - 69s 1ms/step - loss: 0.2948 - accuracy: 0.8923 - val_loss: 0.2667 - val_accuracy: 0.9005\n",
      "Epoch 6/20\n",
      "60000/60000 [==============================] - 69s 1ms/step - loss: 0.2812 - accuracy: 0.8968 - val_loss: 0.2542 - val_accuracy: 0.9059\n",
      "Epoch 7/20\n",
      "60000/60000 [==============================] - 68s 1ms/step - loss: 0.2674 - accuracy: 0.9019 - val_loss: 0.2523 - val_accuracy: 0.9056\n",
      "Epoch 8/20\n",
      "60000/60000 [==============================] - 70s 1ms/step - loss: 0.2563 - accuracy: 0.9050 - val_loss: 0.2510 - val_accuracy: 0.9078\n",
      "Epoch 9/20\n",
      "60000/60000 [==============================] - 70s 1ms/step - loss: 0.2421 - accuracy: 0.9115 - val_loss: 0.2354 - val_accuracy: 0.9117\n",
      "Epoch 10/20\n",
      "60000/60000 [==============================] - 77s 1ms/step - loss: 0.2351 - accuracy: 0.9134 - val_loss: 0.2263 - val_accuracy: 0.9152\n",
      "Epoch 11/20\n",
      "60000/60000 [==============================] - 68s 1ms/step - loss: 0.2317 - accuracy: 0.9144 - val_loss: 0.2263 - val_accuracy: 0.9157\n",
      "Epoch 12/20\n",
      "60000/60000 [==============================] - 69s 1ms/step - loss: 0.2225 - accuracy: 0.9168 - val_loss: 0.2246 - val_accuracy: 0.9171\n",
      "Epoch 13/20\n",
      "60000/60000 [==============================] - 67s 1ms/step - loss: 0.2156 - accuracy: 0.9201 - val_loss: 0.2170 - val_accuracy: 0.9211\n",
      "Epoch 14/20\n",
      "60000/60000 [==============================] - 68s 1ms/step - loss: 0.2078 - accuracy: 0.9225 - val_loss: 0.2289 - val_accuracy: 0.9146\n",
      "Epoch 15/20\n",
      "60000/60000 [==============================] - 67s 1ms/step - loss: 0.2070 - accuracy: 0.9224 - val_loss: 0.2143 - val_accuracy: 0.9205\n",
      "Epoch 16/20\n",
      "60000/60000 [==============================] - 66s 1ms/step - loss: 0.1973 - accuracy: 0.9261 - val_loss: 0.2328 - val_accuracy: 0.9163\n",
      "Epoch 17/20\n",
      "60000/60000 [==============================] - 67s 1ms/step - loss: 0.1955 - accuracy: 0.9255 - val_loss: 0.2095 - val_accuracy: 0.9242\n",
      "Epoch 18/20\n",
      "60000/60000 [==============================] - 68s 1ms/step - loss: 0.1912 - accuracy: 0.9285 - val_loss: 0.2143 - val_accuracy: 0.9218\n",
      "Epoch 19/20\n",
      "60000/60000 [==============================] - 73s 1ms/step - loss: 0.1865 - accuracy: 0.9298 - val_loss: 0.2123 - val_accuracy: 0.9209\n",
      "Epoch 20/20\n",
      "60000/60000 [==============================] - 71s 1ms/step - loss: 0.1835 - accuracy: 0.9309 - val_loss: 0.2159 - val_accuracy: 0.9226\n"
     ]
    }
   ],
   "source": [
    "# Training the model\n",
    "cnn_fit = cnn.fit(x_train, y_train, batch_size=256, epochs=20, verbose=1, validation_data=(x_test, y_test))"
   ]
  },
  {
   "cell_type": "code",
   "execution_count": 16,
   "metadata": {
    "colab": {
     "base_uri": "https://localhost:8080/",
     "height": 623
    },
    "colab_type": "code",
    "executionInfo": {
     "elapsed": 1987,
     "status": "ok",
     "timestamp": 1543427438706,
     "user": {
      "displayName": "Jie He",
      "photoUrl": "",
      "userId": "02992744115617994185"
     },
     "user_tz": 360
    },
    "id": "JAQo_Esds2La",
    "outputId": "70029e60-75d7-46e2-e5c6-a1e75437667d"
   },
   "outputs": [
    {
     "name": "stdout",
     "output_type": "stream",
     "text": [
      "\n",
      "\n",
      "[0.21586379125118255, 0.9225999712944031]\n"
     ]
    },
    {
     "data": {
      "image/png": "[encoded data removed]",
      "text/plain": [
       "<Figure size 432x288 with 1 Axes>"
      ]
     },
     "metadata": {
      "needs_background": "light"
     },
     "output_type": "display_data"
    }
   ],
   "source": [
    "# Get the accuracy\n",
    "cnn_acc = cnn.evaluate(x_test, y_test, verbose = 0)\n",
    "print(\"\\n\")\n",
    "print(cnn_acc)\n",
    "\n",
    "# Plot the loss\n",
    "plot_loss(cnn_fit)"
   ]
  },
  {
   "cell_type": "markdown",
   "metadata": {},
   "source": [
    "Based on the results, we can see that the test accuracy of this model is as high as 92.2%, the train accuracy is about 93%, so the model performs very well. It may because I have in total four layers. Also by using dropout, the model does not show an obvious tendency of overfitting."
   ]
  },
  {
   "cell_type": "markdown",
   "metadata": {},
   "source": [
    "## 2.2 Transfer Learning"
   ]
  },
  {
   "cell_type": "code",
   "execution_count": 17,
   "metadata": {
    "colab": {
     "base_uri": "https://localhost:8080/",
     "height": 158
    },
    "colab_type": "code",
    "executionInfo": {
     "elapsed": 20578,
     "status": "ok",
     "timestamp": 1543427482985,
     "user": {
      "displayName": "Jie He",
      "photoUrl": "",
      "userId": "02992744115617994185"
     },
     "user_tz": 360
    },
    "id": "ZpkYKFnbs2ld",
    "outputId": "36ae6098-f3f0-4e01-d7e2-27df9d7582ad"
   },
   "outputs": [
    {
     "name": "stdout",
     "output_type": "stream",
     "text": [
      "(60000, 48, 48, 3)\n",
      "(10000, 48, 48, 3)\n"
     ]
    }
   ],
   "source": [
    "# Data preprocessing\n",
    "(x_train, y_train), (x_test, y_test) = fashion_mnist.load_data()\n",
    "\n",
    "x_train = x_train.reshape(x_train.shape[0], 784).astype('float32')\n",
    "x_test = x_test.reshape(x_test.shape[0], 784).astype('float32')\n",
    "\n",
    "# Convert the images into 3 channels\n",
    "x_train=np.dstack([x_train] * 3)\n",
    "x_test=np.dstack([x_test]*3)\n",
    "\n",
    "x_train = x_train.reshape(x_train.shape[0],28,28,3).astype('float32')\n",
    "x_test = x_test.reshape(x_test.shape[0],28,28,3).astype('float32')\n",
    "\n",
    "# Resize images to meet the requirement of VGG16\n",
    "x_train = np.asarray([img_to_array(array_to_img(im, scale=False).resize((48,48))) for im in x_train])\n",
    "x_test = np.asarray([img_to_array(array_to_img(im, scale=False).resize((48,48))) for im in x_test])\n",
    "\n",
    "print(x_train.shape) \n",
    "print(x_test.shape) \n",
    "\n",
    "x_train = x_train / 255\n",
    "x_test = x_test / 255\n",
    "y_train = np_utils.to_categorical(y_train, 10)\n",
    "y_test = np_utils.to_categorical(y_test, 10)"
   ]
  },
  {
   "cell_type": "code",
   "execution_count": 18,
   "metadata": {
    "colab": {
     "base_uri": "https://localhost:8080/",
     "height": 950
    },
    "colab_type": "code",
    "executionInfo": {
     "elapsed": 5219,
     "status": "ok",
     "timestamp": 1543427506280,
     "user": {
      "displayName": "Jie He",
      "photoUrl": "",
      "userId": "02992744115617994185"
     },
     "user_tz": 360
    },
    "id": "m-I-NMnJs3BF",
    "outputId": "cd1e7710-aea4-40ce-fdef-fe60e5368488"
   },
   "outputs": [
    {
     "name": "stdout",
     "output_type": "stream",
     "text": [
      "Model: \"vgg16\"\n",
      "_________________________________________________________________\n",
      "Layer (type)                 Output Shape              Param #   \n",
      "=================================================================\n",
      "input_3 (InputLayer)         (None, 48, 48, 3)         0         \n",
      "_________________________________________________________________\n",
      "block1_conv1 (Conv2D)        (None, 48, 48, 64)        1792      \n",
      "_________________________________________________________________\n",
      "block1_conv2 (Conv2D)        (None, 48, 48, 64)        36928     \n",
      "_________________________________________________________________\n",
      "block1_pool (MaxPooling2D)   (None, 24, 24, 64)        0         \n",
      "_________________________________________________________________\n",
      "block2_conv1 (Conv2D)        (None, 24, 24, 128)       73856     \n",
      "_________________________________________________________________\n",
      "block2_conv2 (Conv2D)        (None, 24, 24, 128)       147584    \n",
      "_________________________________________________________________\n",
      "block2_pool (MaxPooling2D)   (None, 12, 12, 128)       0         \n",
      "_________________________________________________________________\n",
      "block3_conv1 (Conv2D)        (None, 12, 12, 256)       295168    \n",
      "_________________________________________________________________\n",
      "block3_conv2 (Conv2D)        (None, 12, 12, 256)       590080    \n",
      "_________________________________________________________________\n",
      "block3_conv3 (Conv2D)        (None, 12, 12, 256)       590080    \n",
      "_________________________________________________________________\n",
      "block3_pool (MaxPooling2D)   (None, 6, 6, 256)         0         \n",
      "_________________________________________________________________\n",
      "block4_conv1 (Conv2D)        (None, 6, 6, 512)         1180160   \n",
      "_________________________________________________________________\n",
      "block4_conv2 (Conv2D)        (None, 6, 6, 512)         2359808   \n",
      "_________________________________________________________________\n",
      "block4_conv3 (Conv2D)        (None, 6, 6, 512)         2359808   \n",
      "_________________________________________________________________\n",
      "block4_pool (MaxPooling2D)   (None, 3, 3, 512)         0         \n",
      "_________________________________________________________________\n",
      "block5_conv1 (Conv2D)        (None, 3, 3, 512)         2359808   \n",
      "_________________________________________________________________\n",
      "block5_conv2 (Conv2D)        (None, 3, 3, 512)         2359808   \n",
      "_________________________________________________________________\n",
      "block5_conv3 (Conv2D)        (None, 3, 3, 512)         2359808   \n",
      "_________________________________________________________________\n",
      "block5_pool (MaxPooling2D)   (None, 1, 1, 512)         0         \n",
      "=================================================================\n",
      "Total params: 14,714,688\n",
      "Trainable params: 14,714,688\n",
      "Non-trainable params: 0\n",
      "_________________________________________________________________\n"
     ]
    }
   ],
   "source": [
    "x_train = preprocess_input(x_train)\n",
    "x_test  = preprocess_input (x_test)\n",
    "\n",
    "# Load VGG16 model\n",
    "vgg = VGG16(weights=\"imagenet\", include_top=False, input_shape=(48, 48, 3), classes=10)\n",
    "vgg.summary()"
   ]
  },
  {
   "cell_type": "code",
   "execution_count": 19,
   "metadata": {
    "colab": {
     "base_uri": "https://localhost:8080/",
     "height": 87
    },
    "colab_type": "code",
    "executionInfo": {
     "elapsed": 46547,
     "status": "ok",
     "timestamp": 1543427605090,
     "user": {
      "displayName": "Jie He",
      "photoUrl": "",
      "userId": "02992744115617994185"
     },
     "user_tz": 360
    },
    "id": "tS6YGN23s3dt",
    "outputId": "0e01d083-2d80-47fe-864f-eba939caa432"
   },
   "outputs": [
    {
     "name": "stdout",
     "output_type": "stream",
     "text": [
      "60000/60000 [==============================] - 1190s 20ms/step\n",
      "10000/10000 [==============================] - 201s 20ms/step\n",
      "(60000, 1, 1, 512)\n",
      "(10000, 1, 1, 512)\n",
      "(60000, 512)\n",
      "(10000, 512)\n"
     ]
    }
   ],
   "source": [
    "# Extracting features\n",
    "train_features = vgg.predict(np.array(x_train), batch_size=16, verbose=1)\n",
    "test_features = vgg.predict(np.array(x_test), batch_size=16, verbose=1)\n",
    "print(train_features.shape)\n",
    "print(test_features.shape)\n",
    "\n",
    "\n",
    "# Flatten features\n",
    "train_features = np.reshape(train_features, (60000, 1*1*512))\n",
    "test_features = np.reshape(test_features, (10000, 1*1*512))\n",
    "print(train_features.shape)\n",
    "print(test_features.shape)"
   ]
  },
  {
   "cell_type": "code",
   "execution_count": 26,
   "metadata": {
    "colab": {
     "base_uri": "https://localhost:8080/",
     "height": 1126
    },
    "colab_type": "code",
    "executionInfo": {
     "elapsed": 44109,
     "status": "ok",
     "timestamp": 1543427664211,
     "user": {
      "displayName": "Jie He",
      "photoUrl": "",
      "userId": "02992744115617994185"
     },
     "user_tz": 360
    },
    "id": "3d4SvR3YzkLS",
    "outputId": "322ad004-7ebd-4c2e-8310-2dd4a489b2c0"
   },
   "outputs": [
    {
     "name": "stdout",
     "output_type": "stream",
     "text": [
      "Train on 60000 samples, validate on 10000 samples\n",
      "Epoch 1/20\n",
      "60000/60000 [==============================] - 3s 54us/step - loss: 2.2051 - accuracy: 0.3370 - val_loss: 1.4201 - val_accuracy: 0.5200\n",
      "Epoch 2/20\n",
      "60000/60000 [==============================] - 3s 42us/step - loss: 1.3677 - accuracy: 0.4961 - val_loss: 1.2408 - val_accuracy: 0.5723\n",
      "Epoch 3/20\n",
      "60000/60000 [==============================] - 3s 43us/step - loss: 1.2308 - accuracy: 0.5535 - val_loss: 1.1526 - val_accuracy: 0.5888\n",
      "Epoch 4/20\n",
      "60000/60000 [==============================] - 2s 40us/step - loss: 1.1439 - accuracy: 0.5855 - val_loss: 1.0748 - val_accuracy: 0.6153\n",
      "Epoch 5/20\n",
      "60000/60000 [==============================] - 2s 39us/step - loss: 1.0870 - accuracy: 0.6065 - val_loss: 1.0086 - val_accuracy: 0.6405\n",
      "Epoch 6/20\n",
      "60000/60000 [==============================] - 2s 40us/step - loss: 1.0429 - accuracy: 0.6251 - val_loss: 0.9794 - val_accuracy: 0.6654\n",
      "Epoch 7/20\n",
      "60000/60000 [==============================] - 3s 43us/step - loss: 1.0158 - accuracy: 0.6310 - val_loss: 0.9443 - val_accuracy: 0.6723\n",
      "Epoch 8/20\n",
      "60000/60000 [==============================] - 3s 48us/step - loss: 0.9883 - accuracy: 0.6426 - val_loss: 0.9378 - val_accuracy: 0.6631\n",
      "Epoch 9/20\n",
      "60000/60000 [==============================] - 2s 40us/step - loss: 0.9701 - accuracy: 0.6507 - val_loss: 0.9159 - val_accuracy: 0.6781\n",
      "Epoch 10/20\n",
      "60000/60000 [==============================] - 3s 43us/step - loss: 0.9580 - accuracy: 0.6541 - val_loss: 0.9050 - val_accuracy: 0.6745\n",
      "Epoch 11/20\n",
      "60000/60000 [==============================] - 3s 42us/step - loss: 0.9455 - accuracy: 0.6587 - val_loss: 0.8811 - val_accuracy: 0.6851\n",
      "Epoch 12/20\n",
      "60000/60000 [==============================] - 2s 41us/step - loss: 0.9412 - accuracy: 0.6578 - val_loss: 0.8859 - val_accuracy: 0.6810\n",
      "Epoch 13/20\n",
      "60000/60000 [==============================] - 2s 38us/step - loss: 0.9300 - accuracy: 0.6632 - val_loss: 0.8861 - val_accuracy: 0.6874\n",
      "Epoch 14/20\n",
      "60000/60000 [==============================] - 2s 39us/step - loss: 0.9284 - accuracy: 0.6624 - val_loss: 0.8570 - val_accuracy: 0.6943\n",
      "Epoch 15/20\n",
      "60000/60000 [==============================] - 2s 37us/step - loss: 0.9180 - accuracy: 0.6678 - val_loss: 0.8489 - val_accuracy: 0.6986\n",
      "Epoch 16/20\n",
      "60000/60000 [==============================] - 3s 47us/step - loss: 0.9146 - accuracy: 0.6678 - val_loss: 0.8595 - val_accuracy: 0.6905\n",
      "Epoch 17/20\n",
      "60000/60000 [==============================] - 2s 35us/step - loss: 0.9036 - accuracy: 0.6725 - val_loss: 0.8386 - val_accuracy: 0.7047\n",
      "Epoch 18/20\n",
      "60000/60000 [==============================] - 2s 35us/step - loss: 0.9031 - accuracy: 0.6721 - val_loss: 0.8455 - val_accuracy: 0.7005\n",
      "Epoch 19/20\n",
      "60000/60000 [==============================] - 2s 38us/step - loss: 0.9060 - accuracy: 0.6722 - val_loss: 0.8596 - val_accuracy: 0.6882\n",
      "Epoch 20/20\n",
      "60000/60000 [==============================] - 2s 42us/step - loss: 0.8949 - accuracy: 0.6759 - val_loss: 0.8354 - val_accuracy: 0.7062\n"
     ]
    }
   ],
   "source": [
    "# Training the model\n",
    "vgg16 = Sequential()\n",
    "vgg16.add(Dense(512, activation='relu', input_dim=(1*1*512)))\n",
    "vgg16.add(Dropout(0.5))\n",
    "vgg16.add(Dense(10, activation='softmax'))\n",
    "\n",
    "vgg16.compile(loss='categorical_crossentropy', optimizer='adam', metrics=['accuracy'])\n",
    "vggmodel=vgg16.fit(train_features, y_train, batch_size=256, epochs=20, verbose=1, validation_data=(test_features, y_test))"
   ]
  },
  {
   "cell_type": "code",
   "execution_count": 27,
   "metadata": {
    "colab": {
     "base_uri": "https://localhost:8080/",
     "height": 623
    },
    "colab_type": "code",
    "executionInfo": {
     "elapsed": 1134,
     "status": "ok",
     "timestamp": 1543427716848,
     "user": {
      "displayName": "Jie He",
      "photoUrl": "",
      "userId": "02992744115617994185"
     },
     "user_tz": 360
    },
    "id": "5LXaj7QG0Dec",
    "outputId": "7db967cf-5848-405b-d33c-bac934f55e97"
   },
   "outputs": [
    {
     "name": "stdout",
     "output_type": "stream",
     "text": [
      "\n",
      "\n",
      "[0.835385387134552, 0.7062000036239624]\n"
     ]
    },
    {
     "data": {
      "image/png": "[encoded data removed]",
      "text/plain": [
       "<Figure size 432x288 with 1 Axes>"
      ]
     },
     "metadata": {
      "needs_background": "light"
     },
     "output_type": "display_data"
    },
    {
     "data": {
      "image/png": "[encoded data removed]",
      "text/plain": [
       "<Figure size 432x288 with 1 Axes>"
      ]
     },
     "metadata": {
      "needs_background": "light"
     },
     "output_type": "display_data"
    }
   ],
   "source": [
    "# Get the test accuracy\n",
    "vgg_acc = vgg16.evaluate(test_features, y_test, verbose = 0)\n",
    "print(\"\\n\")\n",
    "print(vgg_acc)\n",
    "\n",
    "\n",
    "# Plot the loss\n",
    "plt.plot(vggmodel.history['accuracy'])\n",
    "plt.title(\"Model Accuracy\")\n",
    "plt.ylabel(\"accuracy\")\n",
    "plt.xlabel(\"epoch\")\n",
    "plt.show()\n",
    "\n",
    "plt.plot(vggmodel.history[\"loss\"])\n",
    "plt.title(\"Model Loss\")\n",
    "plt.ylabel(\"loss\")\n",
    "plt.xlabel(\"epoch\")\n",
    "plt.show()"
   ]
  },
  {
   "cell_type": "markdown",
   "metadata": {},
   "source": [
    "The test accuracy is about 70%, the train accuracy is around 67%. This model also shows no tendency of fitting."
   ]
  },
  {
   "cell_type": "markdown",
   "metadata": {},
   "source": [
    "# 3. Text Classification\n",
    "\n",
    "\n",
    "## 3.1 RNN"
   ]
  },
  {
   "cell_type": "code",
   "execution_count": 9,
   "metadata": {
    "colab": {},
    "colab_type": "code",
    "id": "y-q1Hi-oLKQa"
   },
   "outputs": [
    {
     "data": {
      "text/html": [
       "<div>\n",
       "<style scoped>\n",
       "    .dataframe tbody tr th:only-of-type {\n",
       "        vertical-align: middle;\n",
       "    }\n",
       "\n",
       "    .dataframe tbody tr th {\n",
       "        vertical-align: top;\n",
       "    }\n",
       "\n",
       "    .dataframe thead th {\n",
       "        text-align: right;\n",
       "    }\n",
       "</style>\n",
       "<table border=\"1\" class=\"dataframe\">\n",
       "  <thead>\n",
       "    <tr style=\"text-align: right;\">\n",
       "      <th></th>\n",
       "      <th>id</th>\n",
       "      <th>tweet</th>\n",
       "      <th>k1</th>\n",
       "      <th>k2</th>\n",
       "      <th>k3</th>\n",
       "      <th>k4</th>\n",
       "      <th>k5</th>\n",
       "      <th>k6</th>\n",
       "      <th>k7</th>\n",
       "      <th>k8</th>\n",
       "      <th>k9</th>\n",
       "      <th>k10</th>\n",
       "      <th>k11</th>\n",
       "      <th>k12</th>\n",
       "      <th>k13</th>\n",
       "      <th>k14</th>\n",
       "      <th>k15</th>\n",
       "    </tr>\n",
       "  </thead>\n",
       "  <tbody>\n",
       "    <tr>\n",
       "      <th>0</th>\n",
       "      <td>1</td>\n",
       "      <td>Jazz for a Rainy Afternoon:  {link}</td>\n",
       "      <td>0.0</td>\n",
       "      <td>0.0</td>\n",
       "      <td>0.0</td>\n",
       "      <td>0.0</td>\n",
       "      <td>0.0</td>\n",
       "      <td>0.0</td>\n",
       "      <td>0.000</td>\n",
       "      <td>0.0</td>\n",
       "      <td>0.000</td>\n",
       "      <td>1.0</td>\n",
       "      <td>0.0</td>\n",
       "      <td>0.0</td>\n",
       "      <td>0.000</td>\n",
       "      <td>0.0</td>\n",
       "      <td>0.0</td>\n",
       "    </tr>\n",
       "    <tr>\n",
       "      <th>1</th>\n",
       "      <td>2</td>\n",
       "      <td>RT: @mention: I love rainy days.</td>\n",
       "      <td>0.0</td>\n",
       "      <td>0.0</td>\n",
       "      <td>0.0</td>\n",
       "      <td>0.0</td>\n",
       "      <td>0.0</td>\n",
       "      <td>0.0</td>\n",
       "      <td>0.000</td>\n",
       "      <td>0.0</td>\n",
       "      <td>0.000</td>\n",
       "      <td>1.0</td>\n",
       "      <td>0.0</td>\n",
       "      <td>0.0</td>\n",
       "      <td>0.000</td>\n",
       "      <td>0.0</td>\n",
       "      <td>0.0</td>\n",
       "    </tr>\n",
       "    <tr>\n",
       "      <th>2</th>\n",
       "      <td>3</td>\n",
       "      <td>Good Morning Chicago! Time to kick the Windy C...</td>\n",
       "      <td>0.0</td>\n",
       "      <td>0.0</td>\n",
       "      <td>0.0</td>\n",
       "      <td>0.0</td>\n",
       "      <td>0.0</td>\n",
       "      <td>0.0</td>\n",
       "      <td>1.000</td>\n",
       "      <td>0.0</td>\n",
       "      <td>0.000</td>\n",
       "      <td>0.0</td>\n",
       "      <td>0.0</td>\n",
       "      <td>0.0</td>\n",
       "      <td>0.000</td>\n",
       "      <td>0.0</td>\n",
       "      <td>0.0</td>\n",
       "    </tr>\n",
       "    <tr>\n",
       "      <th>3</th>\n",
       "      <td>6</td>\n",
       "      <td>Preach lol! :) RT @mention: #alliwantis this t...</td>\n",
       "      <td>0.0</td>\n",
       "      <td>0.0</td>\n",
       "      <td>0.0</td>\n",
       "      <td>0.0</td>\n",
       "      <td>0.0</td>\n",
       "      <td>0.0</td>\n",
       "      <td>0.604</td>\n",
       "      <td>0.0</td>\n",
       "      <td>0.196</td>\n",
       "      <td>0.0</td>\n",
       "      <td>0.0</td>\n",
       "      <td>0.0</td>\n",
       "      <td>0.201</td>\n",
       "      <td>0.0</td>\n",
       "      <td>0.0</td>\n",
       "    </tr>\n",
       "    <tr>\n",
       "      <th>4</th>\n",
       "      <td>9</td>\n",
       "      <td>@mention good morning sunshine</td>\n",
       "      <td>0.0</td>\n",
       "      <td>0.0</td>\n",
       "      <td>0.0</td>\n",
       "      <td>0.0</td>\n",
       "      <td>0.0</td>\n",
       "      <td>0.0</td>\n",
       "      <td>0.000</td>\n",
       "      <td>0.0</td>\n",
       "      <td>0.000</td>\n",
       "      <td>0.0</td>\n",
       "      <td>0.0</td>\n",
       "      <td>0.0</td>\n",
       "      <td>1.000</td>\n",
       "      <td>0.0</td>\n",
       "      <td>0.0</td>\n",
       "    </tr>\n",
       "  </tbody>\n",
       "</table>\n",
       "</div>"
      ],
      "text/plain": [
       "   id                                              tweet   k1   k2   k3   k4  \\\n",
       "0   1                Jazz for a Rainy Afternoon:  {link}  0.0  0.0  0.0  0.0   \n",
       "1   2                   RT: @mention: I love rainy days.  0.0  0.0  0.0  0.0   \n",
       "2   3  Good Morning Chicago! Time to kick the Windy C...  0.0  0.0  0.0  0.0   \n",
       "3   6  Preach lol! :) RT @mention: #alliwantis this t...  0.0  0.0  0.0  0.0   \n",
       "4   9                     @mention good morning sunshine  0.0  0.0  0.0  0.0   \n",
       "\n",
       "    k5   k6     k7   k8     k9  k10  k11  k12    k13  k14  k15  \n",
       "0  0.0  0.0  0.000  0.0  0.000  1.0  0.0  0.0  0.000  0.0  0.0  \n",
       "1  0.0  0.0  0.000  0.0  0.000  1.0  0.0  0.0  0.000  0.0  0.0  \n",
       "2  0.0  0.0  1.000  0.0  0.000  0.0  0.0  0.0  0.000  0.0  0.0  \n",
       "3  0.0  0.0  0.604  0.0  0.196  0.0  0.0  0.0  0.201  0.0  0.0  \n",
       "4  0.0  0.0  0.000  0.0  0.000  0.0  0.0  0.0  1.000  0.0  0.0  "
      ]
     },
     "execution_count": 9,
     "metadata": {},
     "output_type": "execute_result"
    }
   ],
   "source": [
    "# Load the data\n",
    "text = pd.read_csv('twitter-data/tweets_with_labels.csv',sep='\\t')\n",
    "text.head()"
   ]
  },
  {
   "cell_type": "code",
   "execution_count": 19,
   "metadata": {},
   "outputs": [],
   "source": [
    "# Process the tweets\n",
    "def process(tweets):\n",
    "    tweets_clean=[]\n",
    "\n",
    "    for tweet in tweets:\n",
    "\n",
    "        # Process text\n",
    "        tokens = nltk.casual_tokenize(tweet)\n",
    "\n",
    "        # Remove URL\n",
    "        tokens =[term for term in tokens if not term.startswith('{') ]\n",
    "\n",
    "        # Remove profiles\n",
    "        tokens1 = [term for term in tokens if not term.startswith('@')]\n",
    "\n",
    "        # Remove punctuation\n",
    "        punctuation = list(string.punctuation)\n",
    "        tokens2 = [term for term in tokens1 if term not in punctuation]\n",
    "\n",
    "        # Remove hashtags\n",
    "        tokens3 = [term for term in tokens2 if not term.startswith('#')]\n",
    "        \n",
    "        if tokens3 != []:\n",
    "            \n",
    "            sentence3 = ' '.join(tokens3)\n",
    "        else:\n",
    "            sentence3 = 'no words left'\n",
    "        \n",
    "        tweets_clean.append(sentence3)\n",
    "    \n",
    "    return tweets_clean"
   ]
  },
  {
   "cell_type": "code",
   "execution_count": 20,
   "metadata": {},
   "outputs": [
    {
     "data": {
      "text/html": [
       "<div>\n",
       "<style scoped>\n",
       "    .dataframe tbody tr th:only-of-type {\n",
       "        vertical-align: middle;\n",
       "    }\n",
       "\n",
       "    .dataframe tbody tr th {\n",
       "        vertical-align: top;\n",
       "    }\n",
       "\n",
       "    .dataframe thead th {\n",
       "        text-align: right;\n",
       "    }\n",
       "</style>\n",
       "<table border=\"1\" class=\"dataframe\">\n",
       "  <thead>\n",
       "    <tr style=\"text-align: right;\">\n",
       "      <th></th>\n",
       "      <th>id</th>\n",
       "      <th>tweet</th>\n",
       "      <th>k1</th>\n",
       "      <th>k2</th>\n",
       "      <th>k3</th>\n",
       "      <th>k4</th>\n",
       "      <th>k5</th>\n",
       "      <th>k6</th>\n",
       "      <th>k7</th>\n",
       "      <th>k8</th>\n",
       "      <th>k9</th>\n",
       "      <th>k10</th>\n",
       "      <th>k11</th>\n",
       "      <th>k12</th>\n",
       "      <th>k13</th>\n",
       "      <th>k14</th>\n",
       "      <th>k15</th>\n",
       "      <th>tweet_clean</th>\n",
       "    </tr>\n",
       "  </thead>\n",
       "  <tbody>\n",
       "    <tr>\n",
       "      <th>0</th>\n",
       "      <td>1</td>\n",
       "      <td>Jazz for a Rainy Afternoon:  {link}</td>\n",
       "      <td>0.0</td>\n",
       "      <td>0.0</td>\n",
       "      <td>0.0</td>\n",
       "      <td>0.0</td>\n",
       "      <td>0.0</td>\n",
       "      <td>0.0</td>\n",
       "      <td>0.000</td>\n",
       "      <td>0.0</td>\n",
       "      <td>0.000</td>\n",
       "      <td>1.0</td>\n",
       "      <td>0.0</td>\n",
       "      <td>0.0</td>\n",
       "      <td>0.000</td>\n",
       "      <td>0.0</td>\n",
       "      <td>0.0</td>\n",
       "      <td>Jazz for a Rainy Afternoon link</td>\n",
       "    </tr>\n",
       "    <tr>\n",
       "      <th>1</th>\n",
       "      <td>2</td>\n",
       "      <td>RT: @mention: I love rainy days.</td>\n",
       "      <td>0.0</td>\n",
       "      <td>0.0</td>\n",
       "      <td>0.0</td>\n",
       "      <td>0.0</td>\n",
       "      <td>0.0</td>\n",
       "      <td>0.0</td>\n",
       "      <td>0.000</td>\n",
       "      <td>0.0</td>\n",
       "      <td>0.000</td>\n",
       "      <td>1.0</td>\n",
       "      <td>0.0</td>\n",
       "      <td>0.0</td>\n",
       "      <td>0.000</td>\n",
       "      <td>0.0</td>\n",
       "      <td>0.0</td>\n",
       "      <td>RT I love rainy days</td>\n",
       "    </tr>\n",
       "    <tr>\n",
       "      <th>2</th>\n",
       "      <td>3</td>\n",
       "      <td>Good Morning Chicago! Time to kick the Windy C...</td>\n",
       "      <td>0.0</td>\n",
       "      <td>0.0</td>\n",
       "      <td>0.0</td>\n",
       "      <td>0.0</td>\n",
       "      <td>0.0</td>\n",
       "      <td>0.0</td>\n",
       "      <td>1.000</td>\n",
       "      <td>0.0</td>\n",
       "      <td>0.000</td>\n",
       "      <td>0.0</td>\n",
       "      <td>0.0</td>\n",
       "      <td>0.0</td>\n",
       "      <td>0.000</td>\n",
       "      <td>0.0</td>\n",
       "      <td>0.0</td>\n",
       "      <td>Good Morning Chicago Time to kick the Windy Ci...</td>\n",
       "    </tr>\n",
       "    <tr>\n",
       "      <th>3</th>\n",
       "      <td>6</td>\n",
       "      <td>Preach lol! :) RT @mention: #alliwantis this t...</td>\n",
       "      <td>0.0</td>\n",
       "      <td>0.0</td>\n",
       "      <td>0.0</td>\n",
       "      <td>0.0</td>\n",
       "      <td>0.0</td>\n",
       "      <td>0.0</td>\n",
       "      <td>0.604</td>\n",
       "      <td>0.0</td>\n",
       "      <td>0.196</td>\n",
       "      <td>0.0</td>\n",
       "      <td>0.0</td>\n",
       "      <td>0.0</td>\n",
       "      <td>0.201</td>\n",
       "      <td>0.0</td>\n",
       "      <td>0.0</td>\n",
       "      <td>Preach lol :) RT this type of weather all the ...</td>\n",
       "    </tr>\n",
       "    <tr>\n",
       "      <th>4</th>\n",
       "      <td>9</td>\n",
       "      <td>@mention good morning sunshine</td>\n",
       "      <td>0.0</td>\n",
       "      <td>0.0</td>\n",
       "      <td>0.0</td>\n",
       "      <td>0.0</td>\n",
       "      <td>0.0</td>\n",
       "      <td>0.0</td>\n",
       "      <td>0.000</td>\n",
       "      <td>0.0</td>\n",
       "      <td>0.000</td>\n",
       "      <td>0.0</td>\n",
       "      <td>0.0</td>\n",
       "      <td>0.0</td>\n",
       "      <td>1.000</td>\n",
       "      <td>0.0</td>\n",
       "      <td>0.0</td>\n",
       "      <td>good morning sunshine</td>\n",
       "    </tr>\n",
       "  </tbody>\n",
       "</table>\n",
       "</div>"
      ],
      "text/plain": [
       "   id                                              tweet   k1   k2   k3   k4  \\\n",
       "0   1                Jazz for a Rainy Afternoon:  {link}  0.0  0.0  0.0  0.0   \n",
       "1   2                   RT: @mention: I love rainy days.  0.0  0.0  0.0  0.0   \n",
       "2   3  Good Morning Chicago! Time to kick the Windy C...  0.0  0.0  0.0  0.0   \n",
       "3   6  Preach lol! :) RT @mention: #alliwantis this t...  0.0  0.0  0.0  0.0   \n",
       "4   9                     @mention good morning sunshine  0.0  0.0  0.0  0.0   \n",
       "\n",
       "    k5   k6     k7   k8     k9  k10  k11  k12    k13  k14  k15  \\\n",
       "0  0.0  0.0  0.000  0.0  0.000  1.0  0.0  0.0  0.000  0.0  0.0   \n",
       "1  0.0  0.0  0.000  0.0  0.000  1.0  0.0  0.0  0.000  0.0  0.0   \n",
       "2  0.0  0.0  1.000  0.0  0.000  0.0  0.0  0.0  0.000  0.0  0.0   \n",
       "3  0.0  0.0  0.604  0.0  0.196  0.0  0.0  0.0  0.201  0.0  0.0   \n",
       "4  0.0  0.0  0.000  0.0  0.000  0.0  0.0  0.0  1.000  0.0  0.0   \n",
       "\n",
       "                                         tweet_clean  \n",
       "0                    Jazz for a Rainy Afternoon link  \n",
       "1                               RT I love rainy days  \n",
       "2  Good Morning Chicago Time to kick the Windy Ci...  \n",
       "3  Preach lol :) RT this type of weather all the ...  \n",
       "4                              good morning sunshine  "
      ]
     },
     "execution_count": 20,
     "metadata": {},
     "output_type": "execute_result"
    }
   ],
   "source": [
    "# Get the clean data\n",
    "text['tweet_clean'] = process(text['tweet'])\n",
    "text_clean = text[text['tweet_clean']!= 'no words left']\n",
    "\n",
    "text_clean.head()"
   ]
  },
  {
   "cell_type": "code",
   "execution_count": 21,
   "metadata": {},
   "outputs": [],
   "source": [
    "text2 = text_clean['tweet_clean']\n",
    "label =  text_clean.iloc[:,2:-1].values"
   ]
  },
  {
   "cell_type": "code",
   "execution_count": 22,
   "metadata": {},
   "outputs": [],
   "source": [
    "# Split the data\n",
    "text_train,text_test,label_train,label_test = train_test_split(text2,label,test_size=0.3,random_state=123)\n",
    "\n",
    "tokenizer = Tokenizer(num_words=500)\n",
    "tokenizer.fit_on_texts(text_train)\n",
    "train_sequences = tokenizer.texts_to_sequences(text_train) \n",
    "test_sequences = tokenizer.texts_to_sequences(text_test)\n",
    "\n",
    "text_train_2 = pad_sequences(train_sequences,maxlen=50)\n",
    "text_test_2 = pad_sequences(test_sequences,maxlen=50)\n",
    "\n",
    "\n",
    "# Split train data into training data and validation data\n",
    "train_text = text_train_2[:40000]\n",
    "train_label = label_train[:40000]\n",
    "\n",
    "val_text = text_train_2[40000:]\n",
    "val_label = label_train[40000:]"
   ]
  },
  {
   "cell_type": "code",
   "execution_count": 23,
   "metadata": {},
   "outputs": [
    {
     "name": "stdout",
     "output_type": "stream",
     "text": [
      "WARNING:tensorflow:From C:\\Program Files\\Anaconda3\\lib\\site-packages\\tensorflow_core\\python\\ops\\resource_variable_ops.py:1630: calling BaseResourceVariable.__init__ (from tensorflow.python.ops.resource_variable_ops) with constraint is deprecated and will be removed in a future version.\n",
      "Instructions for updating:\n",
      "If using Keras pass *_constraint arguments to layers.\n",
      "WARNING:tensorflow:From C:\\Program Files\\Anaconda3\\lib\\site-packages\\tensorflow_core\\python\\ops\\nn_impl.py:183: where (from tensorflow.python.ops.array_ops) is deprecated and will be removed in a future version.\n",
      "Instructions for updating:\n",
      "Use tf.where in 2.0, which has the same broadcast rule as np.where\n",
      "WARNING:tensorflow:From C:\\Program Files\\Anaconda3\\lib\\site-packages\\keras\\backend\\tensorflow_backend.py:422: The name tf.global_variables is deprecated. Please use tf.compat.v1.global_variables instead.\n",
      "\n",
      "Train on 40000 samples, validate on 14530 samples\n",
      "Epoch 1/15\n",
      "40000/40000 [==============================] - 61s 2ms/step - loss: 0.2228 - acc: 0.8746 - val_loss: 0.1681 - val_acc: 0.8916\n",
      "Epoch 2/15\n",
      "40000/40000 [==============================] - 66s 2ms/step - loss: 0.1490 - acc: 0.8988 - val_loss: 0.2286 - val_acc: 0.8508\n",
      "Epoch 3/15\n",
      "40000/40000 [==============================] - 62s 2ms/step - loss: 0.1268 - acc: 0.9063 - val_loss: 0.1227 - val_acc: 0.9089\n",
      "Epoch 4/15\n",
      "40000/40000 [==============================] - 60s 2ms/step - loss: 0.1183 - acc: 0.9088 - val_loss: 0.1160 - val_acc: 0.9108\n",
      "Epoch 5/15\n",
      "40000/40000 [==============================] - 68s 2ms/step - loss: 0.1132 - acc: 0.9099 - val_loss: 0.1143 - val_acc: 0.9107\n",
      "Epoch 6/15\n",
      "40000/40000 [==============================] - 59s 1ms/step - loss: 0.1104 - acc: 0.9105 - val_loss: 0.1095 - val_acc: 0.9122\n",
      "Epoch 7/15\n",
      "40000/40000 [==============================] - 64s 2ms/step - loss: 0.1086 - acc: 0.9108 - val_loss: 0.1087 - val_acc: 0.9119\n",
      "Epoch 8/15\n",
      "40000/40000 [==============================] - 72s 2ms/step - loss: 0.1074 - acc: 0.9109 - val_loss: 0.1076 - val_acc: 0.9124\n",
      "Epoch 9/15\n",
      "40000/40000 [==============================] - 64s 2ms/step - loss: 0.1062 - acc: 0.9111 - val_loss: 0.1065 - val_acc: 0.9126\n",
      "Epoch 10/15\n",
      "40000/40000 [==============================] - 68s 2ms/step - loss: 0.1053 - acc: 0.9112 - val_loss: 0.1078 - val_acc: 0.9122\n",
      "Epoch 11/15\n",
      "40000/40000 [==============================] - 64s 2ms/step - loss: 0.1046 - acc: 0.9113 - val_loss: 0.1059 - val_acc: 0.9127\n",
      "Epoch 12/15\n",
      "40000/40000 [==============================] - 60s 1ms/step - loss: 0.1039 - acc: 0.9114 - val_loss: 0.1053 - val_acc: 0.9128\n",
      "Epoch 13/15\n",
      "40000/40000 [==============================] - 59s 1ms/step - loss: 0.1033 - acc: 0.9114 - val_loss: 0.1049 - val_acc: 0.9128\n",
      "Epoch 14/15\n",
      "40000/40000 [==============================] - 60s 2ms/step - loss: 0.1027 - acc: 0.9115 - val_loss: 0.1044 - val_acc: 0.9128\n",
      "Epoch 15/15\n",
      "40000/40000 [==============================] - 65s 2ms/step - loss: 0.1023 - acc: 0.9117 - val_loss: 0.1047 - val_acc: 0.9128\n"
     ]
    }
   ],
   "source": [
    "# Train LSTM model\n",
    "rnn= Sequential()\n",
    "rnn.add(Embedding(500, 64))\n",
    "rnn.add(LSTM(64))\n",
    "rnn.add(Dense(15, activation ='sigmoid'))\n",
    "rnn.compile(optimizer = 'rmsprop',loss = 'binary_crossentropy',metrics=['acc'])\n",
    "rnn_history = rnn.fit(train_text,train_label,epochs = 15,validation_data = (val_text, val_label), batch_size = 128,verbose=1)"
   ]
  },
  {
   "cell_type": "code",
   "execution_count": 24,
   "metadata": {},
   "outputs": [
    {
     "name": "stdout",
     "output_type": "stream",
     "text": [
      "23370/23370 [==============================] - 23s 986us/step\n",
      "The loss of test data is: 0.10510752594873952\n",
      "The accuray of test data is:  0.9113850593566895\n"
     ]
    }
   ],
   "source": [
    "rnn_loss, rnn_acc = rnn.evaluate(text_test_2, label_test)\n",
    "\n",
    "# Print out the test error\n",
    "print('The loss of test data is:', rnn_loss)\n",
    "print('The accuray of test data is: ', rnn_acc)"
   ]
  },
  {
   "cell_type": "markdown",
   "metadata": {},
   "source": [
    "## 3.2 CNN"
   ]
  },
  {
   "cell_type": "code",
   "execution_count": 28,
   "metadata": {},
   "outputs": [
    {
     "name": "stdout",
     "output_type": "stream",
     "text": [
      "Train on 40000 samples, validate on 14530 samples\n",
      "Epoch 1/15\n",
      "40000/40000 [==============================] - 14s 354us/step - loss: 0.1890 - acc: 0.8877 - val_loss: 0.1151 - val_acc: 0.9106\n",
      "Epoch 2/15\n",
      "40000/40000 [==============================] - 13s 322us/step - loss: 0.1209 - acc: 0.9083 - val_loss: 0.1097 - val_acc: 0.9124\n",
      "Epoch 3/15\n",
      "40000/40000 [==============================] - 13s 322us/step - loss: 0.1158 - acc: 0.9093 - val_loss: 0.1073 - val_acc: 0.9127\n",
      "Epoch 4/15\n",
      "40000/40000 [==============================] - 13s 321us/step - loss: 0.1126 - acc: 0.9100 - val_loss: 0.1068 - val_acc: 0.9127\n",
      "Epoch 5/15\n",
      "40000/40000 [==============================] - 13s 323us/step - loss: 0.1108 - acc: 0.9102 - val_loss: 0.1062 - val_acc: 0.9129\n",
      "Epoch 6/15\n",
      "40000/40000 [==============================] - 13s 327us/step - loss: 0.1093 - acc: 0.9105 - val_loss: 0.1055 - val_acc: 0.9128\n",
      "Epoch 7/15\n",
      "40000/40000 [==============================] - 13s 324us/step - loss: 0.1080 - acc: 0.9107 - val_loss: 0.1053 - val_acc: 0.9130\n",
      "Epoch 8/15\n",
      "40000/40000 [==============================] - 13s 329us/step - loss: 0.1070 - acc: 0.9109 - val_loss: 0.1050 - val_acc: 0.9128\n",
      "Epoch 9/15\n",
      "40000/40000 [==============================] - 13s 327us/step - loss: 0.1058 - acc: 0.9111 - val_loss: 0.1046 - val_acc: 0.9129\n",
      "Epoch 10/15\n",
      "40000/40000 [==============================] - 13s 329us/step - loss: 0.1050 - acc: 0.9112 - val_loss: 0.1046 - val_acc: 0.9128\n",
      "Epoch 11/15\n",
      "40000/40000 [==============================] - 13s 335us/step - loss: 0.1043 - acc: 0.9113 - val_loss: 0.1046 - val_acc: 0.9129\n",
      "Epoch 12/15\n",
      "40000/40000 [==============================] - 14s 338us/step - loss: 0.1037 - acc: 0.9114 - val_loss: 0.1045 - val_acc: 0.9129\n",
      "Epoch 13/15\n",
      "40000/40000 [==============================] - 14s 338us/step - loss: 0.1030 - acc: 0.9114 - val_loss: 0.1047 - val_acc: 0.9128\n",
      "Epoch 14/15\n",
      "40000/40000 [==============================] - 13s 334us/step - loss: 0.1024 - acc: 0.9115 - val_loss: 0.1046 - val_acc: 0.9129\n",
      "Epoch 15/15\n",
      "40000/40000 [==============================] - 14s 349us/step - loss: 0.1019 - acc: 0.9116 - val_loss: 0.1048 - val_acc: 0.9128\n"
     ]
    }
   ],
   "source": [
    "# Train CNN model\n",
    "cnn2 = Sequential()\n",
    "cnn2.add(Embedding(500,64))\n",
    "cnn2.add(Conv1D(64, kernel_size = 3,padding='valid',activation='relu',strides=1))\n",
    "cnn2.add(GlobalMaxPooling1D())\n",
    "cnn2.add(Dropout(0.3))\n",
    "cnn2.add(Dense(64,activation='relu'))\n",
    "cnn2.add(Dense(15,activation='sigmoid'))\n",
    "cnn2.compile(optimizer = 'adam',loss = 'binary_crossentropy',metrics=['acc'])\n",
    "cnn_history = cnn2.fit(train_text,train_label,epochs = 15,validation_data = (val_text, val_label), batch_size = 64,verbose=1)"
   ]
  },
  {
   "cell_type": "code",
   "execution_count": 29,
   "metadata": {},
   "outputs": [
    {
     "name": "stdout",
     "output_type": "stream",
     "text": [
      "23370/23370 [==============================] - 3s 143us/step\n",
      "The loss of test data is: 0.10519244439794714\n",
      "The accuray of test data is:  0.9115474820137024\n"
     ]
    }
   ],
   "source": [
    "cnn_loss, cnn_acc = cnn2.evaluate(text_test_2, label_test)\n",
    "\n",
    "# Print out the test error\n",
    "print('The loss of test data is:', cnn_loss)\n",
    "print('The accuray of test data is: ', cnn_acc)"
   ]
  },
  {
   "cell_type": "markdown",
   "metadata": {},
   "source": [
    "For these two models, I used binary cross entropy instead of categorical cross entropy. Because binary cross entropy improves a lot in the speed of training the model, but retains the accuracy of the model."
   ]
  },
  {
   "cell_type": "markdown",
   "metadata": {},
   "source": [
    "## 3.3 ROC curve"
   ]
  },
  {
   "cell_type": "code",
   "execution_count": 30,
   "metadata": {},
   "outputs": [
    {
     "data": {
      "image/png": "[encoded data removed]",
      "text/plain": [
       "<Figure size 1152x432 with 2 Axes>"
      ]
     },
     "metadata": {
      "needs_background": "light"
     },
     "output_type": "display_data"
    }
   ],
   "source": [
    "# Plot the results\n",
    "plt.figure(figsize=(16,6))\n",
    "plt.subplot(1, 2, 1)\n",
    "plt.plot(rnn_history.history['acc'])\n",
    "plt.plot(rnn_history.history['val_acc'])\n",
    "plt.title('RNN Accuracy')\n",
    "plt.ylabel('Accuracy')\n",
    "plt.xlabel('Epochs')\n",
    "plt.legend(['train', 'validation'])\n",
    "\n",
    "plt.subplot(1, 2, 2)\n",
    "plt.plot(cnn_history.history['acc'])\n",
    "plt.plot(cnn_history.history['val_acc'])\n",
    "plt.title('CNN Accuracy')\n",
    "plt.ylabel('Accuracy')\n",
    "plt.xlabel('Epochs')\n",
    "plt.legend(['train', 'validation'])\n",
    "plt.show()"
   ]
  },
  {
   "cell_type": "markdown",
   "metadata": {},
   "source": [
    "From the plots, we can see that the validation accuracy for RNN model has a drop around epoch 2, but increases from epoch 2 and even higher than train accuracy. For CNN, validation accuracy is always higher than train accuracy, and even is high at the beginning of that training process. Overall, these two model perform very well, none of them have the tendency of overfitting."
   ]
  }
 ],
 "metadata": {
  "accelerator": "GPU",
  "colab": {
   "collapsed_sections": [],
   "name": "HW2.ipynb",
   "provenance": [],
   "version": "0.3.2"
  },
  "kernelspec": {
   "display_name": "Python 3",
   "language": "python",
   "name": "python3"
  },
  "language_info": {
   "codemirror_mode": {
    "name": "ipython",
    "version": 3
   },
   "file_extension": ".py",
   "mimetype": "text/x-python",
   "name": "python",
   "nbconvert_exporter": "python",
   "pygments_lexer": "ipython3",
   "version": "3.6.9"
  }
 },
 "nbformat": 4,
 "nbformat_minor": 1
}

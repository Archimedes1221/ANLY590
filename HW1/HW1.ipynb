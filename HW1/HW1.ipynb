{
 "cells": [
  {
   "cell_type": "markdown",
   "metadata": {
    "collapsed": true
   },
   "source": [
    "# 1. Regularization"
   ]
  },
  {
   "cell_type": "code",
   "execution_count": 1,
   "metadata": {
    "collapsed": true
   },
   "outputs": [],
   "source": [
    "# Import necessary libraries\n",
    "\n",
    "import matplotlib.pyplot as plt\n",
    "import numpy as np\n",
    "import pandas as pd\n",
    "from sklearn.linear_model import Lasso, LassoCV, Ridge, RidgeCV\n",
    "from sklearn.metrics import mean_squared_error\n",
    "from sklearn.model_selection import train_test_split\n",
    "from sklearn.preprocessing import scale"
   ]
  },
  {
   "cell_type": "code",
   "execution_count": 2,
   "metadata": {},
   "outputs": [
    {
     "data": {
      "text/html": [
       "<div>\n",
       "<style>\n",
       "    .dataframe thead tr:only-child th {\n",
       "        text-align: right;\n",
       "    }\n",
       "\n",
       "    .dataframe thead th {\n",
       "        text-align: left;\n",
       "    }\n",
       "\n",
       "    .dataframe tbody tr th {\n",
       "        vertical-align: top;\n",
       "    }\n",
       "</style>\n",
       "<table border=\"1\" class=\"dataframe\">\n",
       "  <thead>\n",
       "    <tr style=\"text-align: right;\">\n",
       "      <th></th>\n",
       "      <th>Unnamed: 0</th>\n",
       "      <th>AtBat</th>\n",
       "      <th>Hits</th>\n",
       "      <th>HmRun</th>\n",
       "      <th>Runs</th>\n",
       "      <th>RBI</th>\n",
       "      <th>Walks</th>\n",
       "      <th>Years</th>\n",
       "      <th>CAtBat</th>\n",
       "      <th>CHits</th>\n",
       "      <th>...</th>\n",
       "      <th>CRuns</th>\n",
       "      <th>CRBI</th>\n",
       "      <th>CWalks</th>\n",
       "      <th>League</th>\n",
       "      <th>Division</th>\n",
       "      <th>PutOuts</th>\n",
       "      <th>Assists</th>\n",
       "      <th>Errors</th>\n",
       "      <th>Salary</th>\n",
       "      <th>NewLeague</th>\n",
       "    </tr>\n",
       "  </thead>\n",
       "  <tbody>\n",
       "    <tr>\n",
       "      <th>0</th>\n",
       "      <td>-Andy Allanson</td>\n",
       "      <td>293</td>\n",
       "      <td>66</td>\n",
       "      <td>1</td>\n",
       "      <td>30</td>\n",
       "      <td>29</td>\n",
       "      <td>14</td>\n",
       "      <td>1</td>\n",
       "      <td>293</td>\n",
       "      <td>66</td>\n",
       "      <td>...</td>\n",
       "      <td>30</td>\n",
       "      <td>29</td>\n",
       "      <td>14</td>\n",
       "      <td>A</td>\n",
       "      <td>E</td>\n",
       "      <td>446</td>\n",
       "      <td>33</td>\n",
       "      <td>20</td>\n",
       "      <td>NaN</td>\n",
       "      <td>A</td>\n",
       "    </tr>\n",
       "    <tr>\n",
       "      <th>1</th>\n",
       "      <td>-Alan Ashby</td>\n",
       "      <td>315</td>\n",
       "      <td>81</td>\n",
       "      <td>7</td>\n",
       "      <td>24</td>\n",
       "      <td>38</td>\n",
       "      <td>39</td>\n",
       "      <td>14</td>\n",
       "      <td>3449</td>\n",
       "      <td>835</td>\n",
       "      <td>...</td>\n",
       "      <td>321</td>\n",
       "      <td>414</td>\n",
       "      <td>375</td>\n",
       "      <td>N</td>\n",
       "      <td>W</td>\n",
       "      <td>632</td>\n",
       "      <td>43</td>\n",
       "      <td>10</td>\n",
       "      <td>475.0</td>\n",
       "      <td>N</td>\n",
       "    </tr>\n",
       "    <tr>\n",
       "      <th>2</th>\n",
       "      <td>-Alvin Davis</td>\n",
       "      <td>479</td>\n",
       "      <td>130</td>\n",
       "      <td>18</td>\n",
       "      <td>66</td>\n",
       "      <td>72</td>\n",
       "      <td>76</td>\n",
       "      <td>3</td>\n",
       "      <td>1624</td>\n",
       "      <td>457</td>\n",
       "      <td>...</td>\n",
       "      <td>224</td>\n",
       "      <td>266</td>\n",
       "      <td>263</td>\n",
       "      <td>A</td>\n",
       "      <td>W</td>\n",
       "      <td>880</td>\n",
       "      <td>82</td>\n",
       "      <td>14</td>\n",
       "      <td>480.0</td>\n",
       "      <td>A</td>\n",
       "    </tr>\n",
       "    <tr>\n",
       "      <th>3</th>\n",
       "      <td>-Andre Dawson</td>\n",
       "      <td>496</td>\n",
       "      <td>141</td>\n",
       "      <td>20</td>\n",
       "      <td>65</td>\n",
       "      <td>78</td>\n",
       "      <td>37</td>\n",
       "      <td>11</td>\n",
       "      <td>5628</td>\n",
       "      <td>1575</td>\n",
       "      <td>...</td>\n",
       "      <td>828</td>\n",
       "      <td>838</td>\n",
       "      <td>354</td>\n",
       "      <td>N</td>\n",
       "      <td>E</td>\n",
       "      <td>200</td>\n",
       "      <td>11</td>\n",
       "      <td>3</td>\n",
       "      <td>500.0</td>\n",
       "      <td>N</td>\n",
       "    </tr>\n",
       "    <tr>\n",
       "      <th>4</th>\n",
       "      <td>-Andres Galarraga</td>\n",
       "      <td>321</td>\n",
       "      <td>87</td>\n",
       "      <td>10</td>\n",
       "      <td>39</td>\n",
       "      <td>42</td>\n",
       "      <td>30</td>\n",
       "      <td>2</td>\n",
       "      <td>396</td>\n",
       "      <td>101</td>\n",
       "      <td>...</td>\n",
       "      <td>48</td>\n",
       "      <td>46</td>\n",
       "      <td>33</td>\n",
       "      <td>N</td>\n",
       "      <td>E</td>\n",
       "      <td>805</td>\n",
       "      <td>40</td>\n",
       "      <td>4</td>\n",
       "      <td>91.5</td>\n",
       "      <td>N</td>\n",
       "    </tr>\n",
       "  </tbody>\n",
       "</table>\n",
       "<p>5 rows × 21 columns</p>\n",
       "</div>"
      ],
      "text/plain": [
       "          Unnamed: 0  AtBat  Hits  HmRun  Runs  RBI  Walks  Years  CAtBat  \\\n",
       "0     -Andy Allanson    293    66      1    30   29     14      1     293   \n",
       "1        -Alan Ashby    315    81      7    24   38     39     14    3449   \n",
       "2       -Alvin Davis    479   130     18    66   72     76      3    1624   \n",
       "3      -Andre Dawson    496   141     20    65   78     37     11    5628   \n",
       "4  -Andres Galarraga    321    87     10    39   42     30      2     396   \n",
       "\n",
       "   CHits    ...      CRuns  CRBI  CWalks  League Division PutOuts  Assists  \\\n",
       "0     66    ...         30    29      14       A        E     446       33   \n",
       "1    835    ...        321   414     375       N        W     632       43   \n",
       "2    457    ...        224   266     263       A        W     880       82   \n",
       "3   1575    ...        828   838     354       N        E     200       11   \n",
       "4    101    ...         48    46      33       N        E     805       40   \n",
       "\n",
       "   Errors  Salary  NewLeague  \n",
       "0      20     NaN          A  \n",
       "1      10   475.0          N  \n",
       "2      14   480.0          A  \n",
       "3       3   500.0          N  \n",
       "4       4    91.5          N  \n",
       "\n",
       "[5 rows x 21 columns]"
      ]
     },
     "execution_count": 2,
     "metadata": {},
     "output_type": "execute_result"
    }
   ],
   "source": [
    "# Read Data\n",
    "hitters = pd.read_csv(\"Hitters.csv\", sep=\",\")\n",
    "hitters.head()"
   ]
  },
  {
   "cell_type": "code",
   "execution_count": 3,
   "metadata": {
    "collapsed": true
   },
   "outputs": [],
   "source": [
    "# Drop missing value and the first column\n",
    "df = hitters.dropna().drop(hitters.columns[0], axis=1)\n",
    "\n",
    "# Drop categorical variables and label salary as y\n",
    "df = df.drop(['League', 'Division', 'NewLeague'], axis=1)\n",
    "y = df['Salary']\n",
    "df = df.drop(['Salary'], axis=1)\n",
    "x = df.astype('float64')\n",
    "\n",
    "# Split data into training and test sets\n",
    "x_train, x_test, y_train, y_test = train_test_split(x, y, test_size=0.3, random_state=123)"
   ]
  },
  {
   "cell_type": "markdown",
   "metadata": {
    "collapsed": true
   },
   "source": [
    "### 1.1 LASSO Regression"
   ]
  },
  {
   "cell_type": "code",
   "execution_count": 4,
   "metadata": {},
   "outputs": [
    {
     "data": {
      "image/png": "[encoded data removed]",
      "text/plain": [
       "<Figure size 432x288 with 1 Axes>"
      ]
     },
     "metadata": {},
     "output_type": "display_data"
    },
    {
     "data": {
      "text/plain": [
       "AtBat     -118.870243\n",
       "Hits        22.472088\n",
       "HmRun      -64.761569\n",
       "Runs         0.000000\n",
       "RBI         91.080419\n",
       "Walks       90.886246\n",
       "Years     -115.731580\n",
       "CAtBat    -615.415392\n",
       "CHits      660.029636\n",
       "CHmRun     106.229270\n",
       "CRuns      277.483802\n",
       "CRBI         0.000000\n",
       "CWalks     -52.490417\n",
       "PutOuts     98.429202\n",
       "Assists     72.224822\n",
       "Errors     -42.862019\n",
       "dtype: float64"
      ]
     },
     "execution_count": 4,
     "metadata": {},
     "output_type": "execute_result"
    }
   ],
   "source": [
    "# Fit to lasso\n",
    "lasso = Lasso(max_iter=10000, normalize=True)\n",
    "lasso_coefs = []\n",
    "alphas = 10**np.linspace(10, -1, 100)*0.5\n",
    "\n",
    "for alpha in alphas:\n",
    "    lasso.set_params(alpha=alpha)\n",
    "    lasso.fit(scale(x_train), y_train)\n",
    "    lasso_coefs.append(lasso.coef_)\n",
    "    \n",
    "# Visualize the coefficients\n",
    "ax = plt.gca()\n",
    "ax.plot(alphas*2, lasso_coefs)\n",
    "ax.set_xscale('log')\n",
    "plt.axis('tight')\n",
    "plt.xlabel('alpha(lambda)')\n",
    "plt.ylabel('weights')\n",
    "plt.title('Lasso coeffecient trajectories')\n",
    "plt.show()\n",
    "\n",
    "# Coefficients for variables\n",
    "pd.Series(lasso.coef_, index=x.columns)"
   ]
  },
  {
   "cell_type": "code",
   "execution_count": 5,
   "metadata": {},
   "outputs": [
    {
     "name": "stdout",
     "output_type": "stream",
     "text": [
      "0.5285158176886349\n",
      "135362.5771343597\n"
     ]
    },
    {
     "data": {
      "text/plain": [
       "AtBat      -0.000000\n",
       "Hits        0.342941\n",
       "HmRun      -1.763379\n",
       "Runs        0.000000\n",
       "RBI         0.099987\n",
       "Walks       2.343514\n",
       "Years     -23.104629\n",
       "CAtBat     -0.000000\n",
       "CHits       0.000000\n",
       "CHmRun      0.173988\n",
       "CRuns       0.673893\n",
       "CRBI        0.437540\n",
       "CWalks     -0.000000\n",
       "PutOuts     0.323568\n",
       "Assists     0.140480\n",
       "Errors     -3.898619\n",
       "dtype: float64"
      ]
     },
     "execution_count": 5,
     "metadata": {},
     "output_type": "execute_result"
    }
   ],
   "source": [
    "# Fit lasso with cross validation\n",
    "lassocv = LassoCV(alphas = None, cv = 10, max_iter = 10000, normalize = True)\n",
    "lassocv.fit(x_train, y_train)\n",
    "# Optimal value of penalty \n",
    "print(lassocv.alpha_)\n",
    "\n",
    "# Use optimal alpha to fit\n",
    "lasso2 = Lasso(max_iter=10000, normalize=True)\n",
    "lasso2.set_params(alpha = lassocv.alpha_)\n",
    "lasso2.fit(x_train, y_train)\n",
    "print(mean_squared_error(y_test, lasso2.predict(x_test)))\n",
    "\n",
    "# Coefficients for variables, some are reduced to zero.\n",
    "pd.Series(lasso2.coef_, index=x.columns)"
   ]
  },
  {
   "cell_type": "markdown",
   "metadata": {
    "collapsed": true
   },
   "source": [
    "The final three predictors in the model is Years, Errors and Walks.\n",
    "\n",
    "The optimal value of the regularization penalty is 0.5285158176886349.\n",
    "\n",
    "After cross validation, 12 predictors are remained in the model."
   ]
  },
  {
   "cell_type": "markdown",
   "metadata": {},
   "source": [
    "### 1.2 Ridge Regression"
   ]
  },
  {
   "cell_type": "code",
   "execution_count": 6,
   "metadata": {},
   "outputs": [
    {
     "data": {
      "image/png": "[encoded data removed]",
      "text/plain": [
       "<Figure size 432x288 with 1 Axes>"
      ]
     },
     "metadata": {},
     "output_type": "display_data"
    },
    {
     "data": {
      "text/plain": [
       "AtBat      -75.694507\n",
       "Hits        38.609991\n",
       "HmRun      -56.087355\n",
       "Runs        25.028498\n",
       "RBI         48.006686\n",
       "Walks       69.122779\n",
       "Years     -110.068445\n",
       "CAtBat      -7.929000\n",
       "CHits      104.375257\n",
       "CHmRun      73.447877\n",
       "CRuns      144.671451\n",
       "CRBI        83.242109\n",
       "CWalks     -37.252629\n",
       "PutOuts     95.521253\n",
       "Assists     44.386486\n",
       "Errors     -42.176978\n",
       "dtype: float64"
      ]
     },
     "execution_count": 6,
     "metadata": {},
     "output_type": "execute_result"
    }
   ],
   "source": [
    "# Fit to ridge\n",
    "ridge = Ridge(max_iter=10000, normalize=True)\n",
    "ridge_coefs = []\n",
    "\n",
    "for alpha in alphas:\n",
    "    ridge.set_params(alpha=alpha)\n",
    "    ridge.fit(scale(x_train), y_train)\n",
    "    ridge_coefs.append(ridge.coef_)\n",
    "    \n",
    "# Visualize the coefficients\n",
    "ax = plt.gca()\n",
    "ax.plot(alphas*2, ridge_coefs)\n",
    "ax.set_xscale('log')\n",
    "plt.axis('tight')\n",
    "plt.xlabel('alpha(lambda)')\n",
    "plt.ylabel('weights')\n",
    "plt.title('Ridge coeffecient trajectories')\n",
    "plt.show()\n",
    "\n",
    "# Coefficients for variables\n",
    "pd.Series(ridge.coef_, index=x.columns)"
   ]
  },
  {
   "cell_type": "code",
   "execution_count": 7,
   "metadata": {},
   "outputs": [
    {
     "name": "stdout",
     "output_type": "stream",
     "text": [
      "0.05\n",
      "130341.27221942646\n"
     ]
    },
    {
     "data": {
      "text/plain": [
       "AtBat      -0.511102\n",
       "Hits        0.870621\n",
       "HmRun      -6.617805\n",
       "Runs        0.994180\n",
       "RBI         1.849129\n",
       "Walks       3.163345\n",
       "Years     -24.053182\n",
       "CAtBat     -0.003698\n",
       "CHits       0.173854\n",
       "CHmRun      0.946975\n",
       "CRuns       0.470156\n",
       "CRBI        0.270219\n",
       "CWalks     -0.151634\n",
       "PutOuts     0.332808\n",
       "Assists     0.290937\n",
       "Errors     -6.265540\n",
       "dtype: float64"
      ]
     },
     "execution_count": 7,
     "metadata": {},
     "output_type": "execute_result"
    }
   ],
   "source": [
    "# Fit ridge with cross validation\n",
    "ridgecv = RidgeCV(alphas = alphas, normalize = True)\n",
    "ridgecv.fit(x_train, y_train)\n",
    "# Optimal value of penalty \n",
    "print(ridgecv.alpha_)\n",
    "\n",
    "# Use optimal alpha to fit\n",
    "ridge2 = Ridge(alpha = ridgecv.alpha_, normalize = True)\n",
    "ridge2.fit(x_train, y_train)\n",
    "print(mean_squared_error(y_test, ridge2.predict(x_test)))\n",
    "\n",
    "# Coefficients for variables, some are reduced to zero.\n",
    "pd.Series(ridge2.coef_, index=x.columns)"
   ]
  },
  {
   "cell_type": "markdown",
   "metadata": {},
   "source": [
    "The optimal value of the regularization penalty is 0.05."
   ]
  },
  {
   "cell_type": "markdown",
   "metadata": {},
   "source": [
    "# 2. Short Answer"
   ]
  },
  {
   "cell_type": "markdown",
   "metadata": {
    "collapsed": true
   },
   "source": [
    "Bias is the difference between the value of model prediction and the true value, variance is the variability of model prediction for a data point, measures how far a set of numbers are spread out from their average value. The model would have higher variance when it has a lower bias.\n",
    "\n",
    "Regularization on the coefficients can control the variance, we can shrink coefficient estimates to reduce the size of terms in the model, thus decreasing the variance, but increasing the bias.\n",
    "\n",
    "In number (1), we use shrinkage parameter(alpha) to control the size of regularization. When alpha gets larger, the model will have more penaty, thus decreasing the variance, but increasing the bias. When it gets smaller, the model would have lower penalty, so the variance would increase, bias would decrease. From the graphs, we can see that more features are in the model when alpha is smaller, model is with higher variance but lower bias now, and vice versa."
   ]
  }
 ],
 "metadata": {
  "kernelspec": {
   "display_name": "Python 3",
   "language": "python",
   "name": "python3"
  },
  "language_info": {
   "codemirror_mode": {
    "name": "ipython",
    "version": 3
   },
   "file_extension": ".py",
   "mimetype": "text/x-python",
   "name": "python",
   "nbconvert_exporter": "python",
   "pygments_lexer": "ipython3",
   "version": "3.6.6"
  }
 },
 "nbformat": 4,
 "nbformat_minor": 2
}
